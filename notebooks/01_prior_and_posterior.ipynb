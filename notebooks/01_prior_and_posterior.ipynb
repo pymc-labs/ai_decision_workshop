{
 "cells": [
  {
   "cell_type": "markdown",
   "metadata": {
    "slideshow": {
     "slide_type": "slide"
    }
   },
   "source": [
    "# Prior Beliefs to Posterior Estimates\n",
    "\n",
    "[![Open In Colab](https://colab.research.google.com/assets/colab-badge.svg)](https://colab.research.google.com/github/pymc-labs/ai_decision_workshop/blob/main/notebooks/01_prior_and_posterior.ipynb)"
   ]
  },
  {
   "cell_type": "code",
   "execution_count": 1,
   "metadata": {},
   "outputs": [],
   "source": [
    "import arviz as az\n",
    "import numpy as np\n",
    "import matplotlib.pyplot as plt\n",
    "import pymc as pm\n",
    "\n",
    "plt.rcParams['figure.dpi'] = 75\n",
    "plt.rcParams['figure.figsize'] = (6.4, 3.2)"
   ]
  },
  {
   "cell_type": "code",
   "execution_count": 2,
   "metadata": {},
   "outputs": [],
   "source": [
    "def plot_prior(trace):\n",
    "    return az.plot_posterior(trace, group='prior')"
   ]
  },
  {
   "cell_type": "markdown",
   "metadata": {
    "slideshow": {
     "slide_type": "slide"
    }
   },
   "source": [
    "## The Beta-Binomial model\n",
    "\n",
    "In digital marketing, A/B testing is used to evaluate the effect of different versions of an ad, web page, etc. \n",
    "More generally, it has the same structure as tests of medical treatments, public policy interventions, product design, and more.\n",
    "\n",
    "As an example, suppose we test an email campaign that includes a promotional offer.\n",
    "We send version A to 100 people, and 8 of them accept the offer.\n",
    "So the observed conversion rate in this sample is 8%.\n",
    "\n",
    "Here's a dictionary that represents the results."
   ]
  },
  {
   "cell_type": "code",
   "execution_count": 3,
   "metadata": {
    "slideshow": {
     "slide_type": "slide"
    }
   },
   "outputs": [],
   "source": [
    "A = dict(n=100, k=8)"
   ]
  },
  {
   "cell_type": "markdown",
   "metadata": {},
   "source": [
    "Some questions we'd like to answer:\n",
    "\n",
    "* What is the probability someone responds to this email?\n",
    "* How confident are we about that estimate?\n",
    "* If we send the same email to 100 people, how many will respond?\n",
    "\n",
    "And if we have more than one version of the email, we want to compare them.\n",
    "\n",
    "To answer these questions, we'll use the beta-binomial model:\n",
    "\n",
    "* A beta distribution to represent what we believe about the conversion rate.\n",
    "* A binomial to represent the distribution of outcomes (number of responses).\n",
    "\n",
    "Here's the beta distribution we'll use as a prior."
   ]
  },
  {
   "cell_type": "code",
   "execution_count": 4,
   "metadata": {},
   "outputs": [],
   "source": [
    "from scipy.stats import beta\n",
    "\n",
    "beta_dist = beta(2, 5)\n",
    "beta_dist.mean(), beta_dist.std()"
   ]
  },
  {
   "cell_type": "code",
   "execution_count": null,
   "metadata": {},
   "outputs": [],
   "source": [
    "qs = np.linspace(0, 1)\n",
    "pdf = beta_dist.pdf(qs)"
   ]
  },
  {
   "cell_type": "code",
   "execution_count": 5,
   "metadata": {},
   "outputs": [],
   "source": [
    "plt.plot(qs, pdf)\n",
    "plt.xlabel('Conversion rate')\n",
    "plt.ylabel('Density')\n",
    "plt.title('Beta distribution');"
   ]
  },
  {
   "cell_type": "markdown",
   "metadata": {},
   "source": [
    "With these parameters, the mean is about `0.28`, which means we think a typical response rate is about 28%.\n",
    "But the width of the distribution indicates that we are very unsure about that.\n",
    "\n",
    "Now let's pick an arbitrary single value from that distribution, `0.2`, and suppose we send 50 emails with that response rate.\n",
    "The binomial distribution shows how many responses we should expect."
   ]
  },
  {
   "cell_type": "code",
   "execution_count": 24,
   "metadata": {},
   "outputs": [],
   "source": [
    "from scipy.stats import binom\n",
    "\n",
    "binomial_dist = binom(n=50, p=0.2)\n",
    "binomial_dist.mean()"
   ]
  },
  {
   "cell_type": "code",
   "execution_count": 25,
   "metadata": {},
   "outputs": [],
   "source": [
    "ks = np.arange(51)\n",
    "pmf = binomial_dist.pmf(ks)\n",
    "plt.bar(ks, pmf)\n",
    "plt.xlabel('Number of conversions')\n",
    "plt.ylabel('PMF')\n",
    "plt.title('Binomial distribution');"
   ]
  },
  {
   "cell_type": "markdown",
   "metadata": {},
   "source": [
    "The mean is 10, but values as low as 2 and as high as 20 have non-negligible probability.\n",
    "\n",
    "In general we don't know the response rate -- we have to estimate it from data."
   ]
  },
  {
   "cell_type": "markdown",
   "metadata": {},
   "source": [
    "## The Bayesian Update\n",
    "\n",
    "The fundamental idea in Bayesian statistics is that we can use data to update our beliefs.\n",
    "\n",
    "* We start with a **prior distribution** that represents what we believe before we see the data,\n",
    "\n",
    "* We compute a **posterior distribution** that represents what we believe after we see the data.\n",
    "\n",
    "There are several ways to do this computation:\n",
    "\n",
    "* Mathematically, or\n",
    "\n",
    "* Computationally, using a grid approximation, variational inference, or MCMC.\n",
    "\n",
    "MCMC is [Markov chain Monte Carlo](https://en.wikipedia.org/wiki/Markov_chain_Monte_Carlo) sampling, which takes a prior distribution and data, and generates a random sample from an approximate posterior distribution."
   ]
  },
  {
   "cell_type": "markdown",
   "metadata": {},
   "source": [
    "PyMC provides several MCMC algorithms along with distributions we can use to assemble a model of the data-generating process.\n",
    "\n",
    "In this example, we model the data-generating process as:\n",
    "\n",
    "* Choose a conversion rate from the prior, which is a beta distribution\n",
    "\n",
    "* Choose a number of conversions from the likelihood, which is a binomial distribution\n",
    "\n",
    "Exercise: Fill in this model with a beta prior and binomial likelihood."
   ]
  },
  {
   "cell_type": "code",
   "execution_count": 8,
   "metadata": {
    "slideshow": {
     "slide_type": "slide"
    }
   },
   "outputs": [],
   "source": [
    "# Fill this in\n",
    "\n",
    "with pm.Model() as model:\n",
    "    # Prior\n",
    "    conversion_rate = 0\n",
    "    \n",
    "    # Likelihood\n",
    "    pm.Binomial(\"n_signups\", p=conversion_rate, n=1)"
   ]
  },
  {
   "cell_type": "markdown",
   "metadata": {},
   "source": [
    "Here's a graphical representation of the model."
   ]
  },
  {
   "cell_type": "code",
   "execution_count": 10,
   "metadata": {
    "slideshow": {
     "slide_type": "subslide"
    }
   },
   "outputs": [],
   "source": [
    "pm.model_to_graphviz(model)"
   ]
  },
  {
   "cell_type": "markdown",
   "metadata": {},
   "source": [
    "First, let's draw a sample from the prior distribution."
   ]
  },
  {
   "cell_type": "code",
   "execution_count": 11,
   "metadata": {
    "slideshow": {
     "slide_type": "slide"
    }
   },
   "outputs": [],
   "source": [
    "with model:\n",
    "    prior_samples = pm.sample_prior_predictive()"
   ]
  },
  {
   "cell_type": "markdown",
   "metadata": {},
   "source": [
    "Here's what it looks like."
   ]
  },
  {
   "cell_type": "code",
   "execution_count": 12,
   "metadata": {
    "slideshow": {
     "slide_type": "slide"
    }
   },
   "outputs": [],
   "source": [
    "plot_prior(prior_samples)\n",
    "plt.xlabel(\"Conversion rate\")\n",
    "plt.ylabel(\"Density\")\n",
    "plt.title(\"Prior distribution\");"
   ]
  },
  {
   "cell_type": "markdown",
   "metadata": {},
   "source": [
    "The result looks like the PDF of the beta distribution we computed.\n",
    "The 94% HDI (highest density interval) shows the narrowest range of values that contain 94% of the probability.\n",
    "\n",
    "Now let's sample from the posterior."
   ]
  },
  {
   "cell_type": "code",
   "execution_count": 13,
   "metadata": {
    "slideshow": {
     "slide_type": "slide"
    }
   },
   "outputs": [],
   "source": [
    "with model:\n",
    "    trace = pm.sample()"
   ]
  },
  {
   "cell_type": "markdown",
   "metadata": {},
   "source": [
    "Here's what the posterior distribution looks like."
   ]
  },
  {
   "cell_type": "code",
   "execution_count": 14,
   "metadata": {
    "slideshow": {
     "slide_type": "slide"
    }
   },
   "outputs": [],
   "source": [
    "az.plot_posterior(trace);"
   ]
  },
  {
   "cell_type": "markdown",
   "metadata": {},
   "source": [
    "The posterior distribution represents what we believe **after seeing the data**.\n",
    "It's centered near the observed conversion rate, 8%.\n",
    "\n",
    "The 94% HDI extends from 4.5% to 14%.\n",
    "Which means there is a 94% chance that the true conversion rate falls in this range, subject to the assumptions of the model (for example that that rate does not change over time)."
   ]
  },
  {
   "cell_type": "markdown",
   "metadata": {
    "slideshow": {
     "slide_type": "notes"
    }
   },
   "source": [
    "To compare the prior and posterior distributions, we'll combine `trace` and `prior_samples`."
   ]
  },
  {
   "cell_type": "code",
   "execution_count": 15,
   "metadata": {
    "slideshow": {
     "slide_type": "slide"
    }
   },
   "outputs": [],
   "source": [
    "with model:\n",
    "    trace.extend(prior_samples)"
   ]
  },
  {
   "cell_type": "markdown",
   "metadata": {},
   "source": [
    "And then we can use `plot_dist_comparison`."
   ]
  },
  {
   "cell_type": "code",
   "execution_count": 16,
   "metadata": {
    "slideshow": {
     "slide_type": "slide"
    }
   },
   "outputs": [],
   "source": [
    "az.plot_dist_comparison(trace);"
   ]
  },
  {
   "cell_type": "markdown",
   "metadata": {
    "slideshow": {
     "slide_type": "slide"
    }
   },
   "source": [
    "In summary:\n",
    "\n",
    "* Prior distribution represents what we believe about the conversion rate before seeing the data.\n",
    "\n",
    "* Posterior distribution represents what we believe about the conversion rate after seeing the data.\n",
    "\n",
    "As we get more data, the posterior distribution gets narrower."
   ]
  },
  {
   "cell_type": "markdown",
   "metadata": {},
   "source": [
    "## What About That Prior?\n",
    "\n",
    "The previous example uses a **weakly informative prior** -- based on what we know about email campaigns, we think the response rate could fall anywhere in a wide range.\n",
    "\n",
    "Weakly informative priors \"let the data speak for itself\".\n",
    "\n",
    "But when you have only a small dataset, the prior makes a big difference, so you should use as much information as you have.\n",
    "\n",
    "Here's a problem that illustrates the point, from Chapter 4 of [Think Bayes](https://allendowney.github.io/ThinkBayes2/chap04.html#exercises) .\n",
    "\n",
    "> In Major League Baseball, most players have a batting average between .210 and .320, which means that their probability of getting a hit is between 0.21 and 0.32.\n",
    ">\n",
    ">Suppose a player appearing in their first game gets 3 hits out of 3 attempts. What is the posterior distribution for their probability of getting a hit?\n",
    "\n",
    "Here's a model that estimates a proportion after observing `k=3` successes out of `n=3` attempts.\n",
    "It uses a weakly informative prior."
   ]
  },
  {
   "cell_type": "code",
   "execution_count": 30,
   "metadata": {},
   "outputs": [],
   "source": [
    "with pm.Model() as rookie_model:\n",
    "    p = pm.Beta('p', alpha=2, beta=2)  \n",
    "    obs = pm.Binomial('obs', n=3, p=p, observed=3)\n",
    "    prior_trace = pm.sample_prior_predictive()\n",
    "    trace = pm.sample()"
   ]
  },
  {
   "cell_type": "markdown",
   "metadata": {},
   "source": [
    "Here's what that prior looks like ."
   ]
  },
  {
   "cell_type": "code",
   "execution_count": 31,
   "metadata": {},
   "outputs": [],
   "source": [
    "plot_prior(prior_trace);"
   ]
  },
  {
   "cell_type": "markdown",
   "metadata": {},
   "source": [
    "Here's the posterior."
   ]
  },
  {
   "cell_type": "code",
   "execution_count": 32,
   "metadata": {},
   "outputs": [],
   "source": [
    "az.plot_posterior(trace, var_names=['p']);"
   ]
  },
  {
   "cell_type": "markdown",
   "metadata": {},
   "source": [
    "In this case, \"letting the data speak for itself\" yields an unrealistic result.\n",
    "\n",
    "We have a lot of information about batting averages in the major leagues, which we can use to choose a more reasonable prior.\n",
    "\n",
    "We can specify the prior in terms of mean and dispersion, and convert to the parameters of the beta distribution."
   ]
  },
  {
   "cell_type": "code",
   "execution_count": 29,
   "metadata": {},
   "outputs": [],
   "source": [
    "mean = 0.250  # Mean batting average\n",
    "std = 0.030  # Standard deviation\n",
    "\n",
    "# Compute alpha and beta\n",
    "alpha = mean * ((mean * (1 - mean)) / std**2 - 1)\n",
    "beta = (1 - mean) * ((mean * (1 - mean)) / std**2 - 1)\n",
    "\n",
    "alpha, beta"
   ]
  },
  {
   "cell_type": "markdown",
   "metadata": {},
   "source": [
    "Exercise: Go back and modify the prior of `rookie_model`.\n",
    "Compute and plot the posterior mean, and see what effect the new prior has on the results.\n",
    "Given what we know about the context, do the results seem more reasonable?"
   ]
  },
  {
   "cell_type": "markdown",
   "metadata": {},
   "source": [
    "This example demonstrates the Bayesian version of [shrinkage](https://en.wikipedia.org/wiki/Shrinkage_(statistics)), so called because a estimate based on small data \"shrinks\" toward the prior mean."
   ]
  }
 ],
 "metadata": {
  "kernelspec": {
   "display_name": "Python 3 (ipykernel)",
   "language": "python",
   "name": "python3"
  },
  "language_info": {
   "codemirror_mode": {
    "name": "ipython",
    "version": 3
   },
   "file_extension": ".py",
   "mimetype": "text/x-python",
   "name": "python",
   "nbconvert_exporter": "python",
   "pygments_lexer": "ipython3",
   "version": "3.11.13"
  }
 },
 "nbformat": 4,
 "nbformat_minor": 4
}
