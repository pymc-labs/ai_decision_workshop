{
 "cells": [
  {
   "cell_type": "markdown",
   "metadata": {
    "slideshow": {
     "slide_type": "slide"
    }
   },
   "source": [
    "# Bayesian Bandits"
   ]
  },
  {
   "cell_type": "code",
   "execution_count": 1,
   "metadata": {},
   "outputs": [],
   "source": [
    "import arviz as az\n",
    "import numpy as np\n",
    "import matplotlib.pyplot as plt\n",
    "import pymc as pm\n",
    "\n",
    "plt.rcParams['figure.dpi'] = 75\n",
    "plt.rcParams['figure.figsize'] = (6.4, 3.2)"
   ]
  },
  {
   "cell_type": "code",
   "execution_count": 2,
   "metadata": {},
   "outputs": [],
   "source": [
    "def plot_prior(trace, **options):\n",
    "    return pm.plot_posterior(trace, group='prior', **options);"
   ]
  },
  {
   "cell_type": "code",
   "execution_count": 3,
   "metadata": {},
   "outputs": [],
   "source": [
    "def plot_posterior_predictive(trace, **options):\n",
    "    return pm.plot_posterior(trace, group='posterior_predictive', **options);"
   ]
  },
  {
   "cell_type": "code",
   "execution_count": 4,
   "metadata": {},
   "outputs": [],
   "source": [
    "def run_samplers(model, *args, **options):\n",
    "    with model:\n",
    "        # Sample the prior predictive\n",
    "        prior_pred = pm.sample_prior_predictive()\n",
    "\n",
    "        # Sample from the posterior\n",
    "        trace = pm.sample(*args, **options)\n",
    "\n",
    "        # Sample from the posterior predictive\n",
    "        posterior_pred = pm.sample_posterior_predictive(trace)\n",
    "\n",
    "    trace.extend(prior_pred)\n",
    "    trace.extend(posterior_pred)\n",
    "    \n",
    "    return trace"
   ]
  },
  {
   "cell_type": "markdown",
   "metadata": {},
   "source": [
    "## A/B Testing\n",
    "\n",
    "Let's get back to the example from the previous notebook, estimating the conversion rate of an email campaign.\n",
    "\n",
    "For purposes of simulation, let's assume that the actual long run conversion rate for version A is 10%.\n",
    "We'll use a dictionary to keep track of this probability, `p`, the number of times we have tested this version, `n`, and the number of successful conversions, `k`."
   ]
  },
  {
   "cell_type": "code",
   "execution_count": 5,
   "metadata": {},
   "outputs": [],
   "source": [
    "A = dict(p=0.1, n=0, k=0)"
   ]
  },
  {
   "cell_type": "markdown",
   "metadata": {},
   "source": [
    "When we run a campaign, we'll updated this dictionary with the number of people we contact and the number of conversions, drawn from a binomial distribution with parameters `n` and `p`."
   ]
  },
  {
   "cell_type": "code",
   "execution_count": 6,
   "metadata": {},
   "outputs": [],
   "source": [
    "from scipy.stats import binom\n",
    "\n",
    "def run_campaign(d, n=100):\n",
    "    d['n'] += n\n",
    "    d['k'] += binom.rvs(n=n, p=d['p'])"
   ]
  },
  {
   "cell_type": "markdown",
   "metadata": {},
   "source": [
    "As an example, suppose we send version A to 100 people."
   ]
  },
  {
   "cell_type": "code",
   "execution_count": 7,
   "metadata": {},
   "outputs": [],
   "source": [
    "run_campaign(A, 100)\n",
    "A"
   ]
  },
  {
   "cell_type": "markdown",
   "metadata": {},
   "source": [
    "We can use this model from the previous notebook to estimate the conversion rate."
   ]
  },
  {
   "cell_type": "code",
   "execution_count": 8,
   "metadata": {},
   "outputs": [],
   "source": [
    "with pm.Model() as model:\n",
    "    conversion_rate = pm.Beta(\"conversion_rate\", 2, 5)\n",
    "    pm.Binomial(\"n_signups\", p=conversion_rate, n=A['n'], observed=A['k'])\n",
    "    trace = pm.sample()"
   ]
  },
  {
   "cell_type": "markdown",
   "metadata": {},
   "source": [
    "Here's the posterior distribution."
   ]
  },
  {
   "cell_type": "code",
   "execution_count": 9,
   "metadata": {},
   "outputs": [],
   "source": [
    "az.plot_posterior(trace);"
   ]
  },
  {
   "cell_type": "markdown",
   "metadata": {},
   "source": [
    "Now suppose we introduce a new promotion that we think is more enticing, and for the sake of the example, we'll assume it is in fact more effective, so `p=0.15`."
   ]
  },
  {
   "cell_type": "code",
   "execution_count": 10,
   "metadata": {},
   "outputs": [],
   "source": [
    "B = dict(p=0.15, n=0, k=0)"
   ]
  },
  {
   "cell_type": "markdown",
   "metadata": {},
   "source": [
    "But we don't know yet that B is more effective, so we'll do an uneven A/B test where we send the new email to 20 people in the next batch of 100."
   ]
  },
  {
   "cell_type": "code",
   "execution_count": 11,
   "metadata": {},
   "outputs": [],
   "source": [
    "run_campaign(A, 80)\n",
    "A"
   ]
  },
  {
   "cell_type": "code",
   "execution_count": 12,
   "metadata": {},
   "outputs": [],
   "source": [
    "run_campaign(B, 20)\n",
    "B"
   ]
  },
  {
   "cell_type": "markdown",
   "metadata": {},
   "source": [
    "Now let's update our beliefs."
   ]
  },
  {
   "cell_type": "markdown",
   "metadata": {},
   "source": [
    "## Loop Back to Here\n",
    "\n",
    "Here's the previous model extended to estimate conversion rates for A and B."
   ]
  },
  {
   "cell_type": "code",
   "execution_count": 13,
   "metadata": {},
   "outputs": [],
   "source": [
    "with pm.Model() as model_AB:\n",
    "    # Priors for conversion rates of A and B\n",
    "    conversion_rate_A = pm.Beta(\"conversion_rate_A\", alpha=2, beta=5)\n",
    "    conversion_rate_B = pm.Beta(\"conversion_rate_B\", alpha=2, beta=5)\n",
    "    \n",
    "    # Likelihoods for observed data\n",
    "    obs_A = pm.Binomial(\"obs_A\", p=conversion_rate_A, n=A['n'], observed=A['k'])\n",
    "    obs_B = pm.Binomial(\"obs_B\", p=conversion_rate_B, n=B['n'], observed=B['k'])\n",
    "    \n",
    "    trace = pm.sample()"
   ]
  },
  {
   "cell_type": "markdown",
   "metadata": {},
   "source": [
    "Here are the posterior distributions."
   ]
  },
  {
   "cell_type": "code",
   "execution_count": 14,
   "metadata": {},
   "outputs": [],
   "source": [
    "az.plot_posterior(trace);"
   ]
  },
  {
   "cell_type": "markdown",
   "metadata": {},
   "source": [
    "Here's how we can plot them on the same axes."
   ]
  },
  {
   "cell_type": "code",
   "execution_count": 15,
   "metadata": {},
   "outputs": [],
   "source": [
    "posterior = az.extract(trace)\n",
    "samples_A = posterior[\"conversion_rate_A\"].values\n",
    "samples_B = posterior[\"conversion_rate_B\"].values\n",
    "\n",
    "az.plot_kde(samples_A, label=\"conversion_rate_A\")\n",
    "az.plot_kde(samples_B, label=\"conversion_rate_B\", plot_kwargs={\"color\": \"C1\"})\n",
    "\n",
    "plt.xlabel(\"Conversion Rate\")\n",
    "plt.title(\"Posterior Distributions\")\n",
    "plt.legend();"
   ]
  },
  {
   "cell_type": "markdown",
   "metadata": {},
   "source": [
    "Based on these results, it looks like B is better, but the distributions overlap, so we might be tempted to run a hypothesis test.\n",
    "But rather than say \"yes, there's a difference\" or \"no, there isn't\", it is more useful to compute the distribution of possible differences."
   ]
  },
  {
   "cell_type": "code",
   "execution_count": 16,
   "metadata": {},
   "outputs": [],
   "source": [
    "diff = samples_B - samples_A"
   ]
  },
  {
   "cell_type": "markdown",
   "metadata": {},
   "source": [
    "Here's what it looks like."
   ]
  },
  {
   "cell_type": "code",
   "execution_count": 17,
   "metadata": {},
   "outputs": [],
   "source": [
    "az.plot_posterior(diff, var_names=['x']);"
   ]
  },
  {
   "cell_type": "markdown",
   "metadata": {},
   "source": [
    "On average, we think B is better (positive difference), but it's still possible that A is better (negative difference).\n",
    "\n",
    "Here are the probabilities of superiority for A and B."
   ]
  },
  {
   "cell_type": "code",
   "execution_count": 18,
   "metadata": {},
   "outputs": [],
   "source": [
    "p_superior_A = (samples_A > samples_B).mean()\n",
    "p_superior_B = (samples_B > samples_A).mean()\n",
    "\n",
    "p_superior_A, p_superior_B"
   ]
  },
  {
   "cell_type": "markdown",
   "metadata": {},
   "source": [
    "At any point in time, these posterior distributions represent what we *believe* about A and B, but how do we put those beliefs into action?"
   ]
  },
  {
   "cell_type": "markdown",
   "metadata": {},
   "source": [
    "## Thompson Sampling\n",
    "\n",
    "One option is [Thompson sampling](https://en.wikipedia.org/wiki/Thompson_sampling), where we use A and B in proportion to their probability of superiority.\n",
    "As long as we are unsure, we use them both about equally.\n",
    "As we get confident that one is better, we use it more often.\n",
    "\n",
    "For the next 100 emails, we'll use the probability of superiority to choose the proportions."
   ]
  },
  {
   "cell_type": "code",
   "execution_count": 19,
   "metadata": {},
   "outputs": [],
   "source": [
    "n = 100\n",
    "n_A = (n * p_superior_A).round().astype(int)\n",
    "n_B = n - n_A\n",
    "\n",
    "n_A, n_B"
   ]
  },
  {
   "cell_type": "markdown",
   "metadata": {},
   "source": [
    "And we'll simulate the campaign."
   ]
  },
  {
   "cell_type": "code",
   "execution_count": 20,
   "metadata": {},
   "outputs": [],
   "source": [
    "run_campaign(A, n_A)\n",
    "A"
   ]
  },
  {
   "cell_type": "code",
   "execution_count": 21,
   "metadata": {},
   "outputs": [],
   "source": [
    "run_campaign(B, n_B)\n",
    "B"
   ]
  },
  {
   "cell_type": "markdown",
   "metadata": {},
   "source": [
    "Now go back and run the model again.\n",
    "If you loop around a few times, you should see:\n",
    "\n",
    "* The estimated conversion rates for A and B converge to their true values.\n",
    "\n",
    "* The probability of superiority of B converges to 1.\n",
    "\n",
    "* We gradually use A less and B more.\n",
    "\n",
    "This strategy, also known as the [Bayesian bandit strategy](https://en.wikipedia.org/wiki/Multi-armed_bandit), is optimal in the sense that it maximizes expected utility given current beliefs."
   ]
  }
 ],
 "metadata": {
  "kernelspec": {
   "display_name": "Python 3 (ipykernel)",
   "language": "python",
   "name": "python3"
  },
  "language_info": {
   "codemirror_mode": {
    "name": "ipython",
    "version": 3
   },
   "file_extension": ".py",
   "mimetype": "text/x-python",
   "name": "python",
   "nbconvert_exporter": "python",
   "pygments_lexer": "ipython3",
   "version": "3.11.13"
  }
 },
 "nbformat": 4,
 "nbformat_minor": 4
}
